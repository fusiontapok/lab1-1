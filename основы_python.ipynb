{
  "cells": [
    {
      "cell_type": "markdown",
      "metadata": {
        "id": "M-DGa20PaHnu"
      },
      "source": [
        "#Задача 1\n",
        "Написать функцию на вход которой подается строка, состоящая из латинских букв.\n",
        "Функция должна вернуть количество гласных букв (a, e, i, o, u) в этой строке. Написать тесты для кода"
      ]
    },
    {
      "cell_type": "code",
      "execution_count": 1,
      "metadata": {
        "id": "XvX8X_JJ6PCb"
      },
      "outputs": [
        {
          "name": "stdout",
          "output_type": "stream",
          "text": [
            "Test 1 - 'Hello World': 3 (Ожидается 3)\n",
            "Test 2 - 'Hll Wrlld': 0 (Ожидается 0)\n",
            "Test 3 - 'aeiouAEIOU': 10 (Ожидается 10)\n"
          ]
        }
      ],
      "source": [
        "def count_vowels(input_string):\n",
        "    # Определяем набор гласных\n",
        "    vowels = \"aeiouAEIOU\"\n",
        "    # Считаем количество гласных в строке\n",
        "    count = sum(1 for char in input_string if char in vowels)\n",
        "    return count\n",
        "\n",
        "# Тестовые случаи\n",
        "def run_tests():\n",
        "    # Тест 1: обычная строка\n",
        "    test_string_1 = \"Hello World\"\n",
        "    print(f\"Test 1 - '{test_string_1}': {count_vowels(test_string_1)} (Ожидается 3)\")\n",
        "    \n",
        "    # Тест 2: строка без гласных\n",
        "    test_string_2 = \"Hll Wrlld\"\n",
        "    print(f\"Test 2 - '{test_string_2}': {count_vowels(test_string_2)} (Ожидается 0)\")\n",
        "    \n",
        "    # Тест 3: строка из гласных\n",
        "    test_string_3 = \"aeiouAEIOU\"\n",
        "    print(f\"Test 3 - '{test_string_3}': {count_vowels(test_string_3)} (Ожидается 10)\")\n",
        "\n",
        "# Запускаем тесты\n",
        "run_tests()"
      ]
    },
    {
      "cell_type": "markdown",
      "metadata": {
        "id": "t2ClV_Y0bbr6"
      },
      "source": [
        "# Задача 2\n",
        "Написать функцию на вход, которой подается строка. Функция должна вернуть true, если\n",
        "каждый символ в строке встречается только 1 раз, иначе должна вернуть false. Написать тесты для кода"
      ]
    },
    {
      "cell_type": "code",
      "execution_count": 3,
      "metadata": {
        "id": "FppbECao6VIz"
      },
      "outputs": [
        {
          "name": "stdout",
          "output_type": "stream",
          "text": [
            "Все тесты пройдены!\n"
          ]
        }
      ],
      "source": [
        "def has_unique_characters(s: str) -> bool:\n",
        "    # Создаем пустое множество для хранения уникальных символов\n",
        "    seen = set()\n",
        "\n",
        "    # Проходим по каждому символу в строке\n",
        "    for char in s:\n",
        "        # Если символ уже встречался, возвращаем False\n",
        "        if char in seen:\n",
        "            return False\n",
        "        # Добавляем символ в множество\n",
        "        seen.add(char)\n",
        "    \n",
        "    # Если не нашли повторяющихся символов, возвращаем True\n",
        "    return True\n",
        "def run_tests():\n",
        "    # Тест 1: Уникальные символы\n",
        "    assert has_unique_characters(\"abcdef\") == True, \"Тест 1 провален!\"\n",
        "\n",
        "    # Тест 2: Повторяющиеся символы\n",
        "    assert has_unique_characters(\"hello\") == False, \"Тест 2 провален!\"\n",
        "\n",
        "    # Тест 3: Пустая строка (можно считать, что там уникальные символы)\n",
        "    assert has_unique_characters(\"\") == True, \"Тест 3 провален!\"\n",
        "\n",
        "    print(\"Все тесты пройдены!\")\n",
        "\n",
        "# Запуск тестов\n",
        "run_tests()"
      ]
    },
    {
      "cell_type": "markdown",
      "metadata": {
        "id": "udRiIK1cdt6E"
      },
      "source": [
        "# Задача 3\n",
        "Написать функцию, которая принимает положительное число и возвращает количество\n",
        "бит равных 1 в этом числе. Написать тесты для кода"
      ]
    },
    {
      "cell_type": "code",
      "execution_count": 7,
      "metadata": {
        "id": "6tkfDJRz6dp_"
      },
      "outputs": [
        {
          "name": "stdout",
          "output_type": "stream",
          "text": [
            "Все тесты прошли успешно!\n"
          ]
        }
      ],
      "source": [
        "def count_ones(n: int) -> int:\n",
        "    if n < 0:\n",
        "        raise ValueError(\"Input must be a positive integer.\")\n",
        "    return bin(n).count('1')\n",
        "def test_count_ones():\n",
        "    assert count_ones(5) == 2  # Бинарное представление 5 - '101', два бита 1\n",
        "    assert count_ones(7) == 3  # Бинарное представление 7 - '111', три бита 1\n",
        "    assert count_ones(16) == 1  # Бинарное представление 16 - '10000', один бит 1\n",
        "\n",
        "    print(\"Все тесты прошли успешно!\")\n",
        "\n",
        "# Запустим тесты\n",
        "test_count_ones()"
      ]
    },
    {
      "cell_type": "markdown",
      "metadata": {
        "id": "26dDUz-Ae17N"
      },
      "source": [
        "# Задача 4\n",
        "Написать функцию, которая принимает положительное число. Функция должна вернуть то,\n",
        "сколько раз необходимо перемножать цифры числа или результат перемножения, чтобы\n",
        "получилось число состоящее из одной цифры.\n",
        "Например, для входного числа:\n",
        "· 39 функция должна вернуть 3, так как 3*9=27 => 2*7=14 => 1*4=4\n",
        "· 4 функция должна вернуть 0, так как число уже состоит из одной цифры\n",
        "· 999 функция должна вернуть 4, так как 9*9*9=729 => 7*2*9=126 => 1*2*6=12 =>\n",
        "1*2=2. Написать тесты для кода"
      ]
    },
    {
      "cell_type": "code",
      "execution_count": 8,
      "metadata": {
        "id": "BH1A_Mgi6i4G"
      },
      "outputs": [
        {
          "name": "stdout",
          "output_type": "stream",
          "text": [
            "Все тесты пройдены успешно!\n"
          ]
        }
      ],
      "source": [
        "def magic(n):\n",
        "    # Объявляем переменную для хранения количества операций\n",
        "    count = 0\n",
        "    \n",
        "    # Продолжаем, пока n больше 9 (то есть не является однозначным числом)\n",
        "    while n > 9:\n",
        "        # Перемножаем все цифры числа n\n",
        "        product = 1\n",
        "        for digit in str(n):\n",
        "            product *= int(digit)\n",
        "        # Обновляем n значением произведения\n",
        "        n = product\n",
        "        # Увеличиваем счетчик операций\n",
        "        count += 1\n",
        "    \n",
        "    return count\n",
        "\n",
        "# Тесты для функции\n",
        "def test_magic():\n",
        "    assert magic(39) == 3, \"Ошибка: тест 39\"\n",
        "    assert magic(4) == 0, \"Ошибка: тест 4\"\n",
        "    assert magic(999) == 4, \"Ошибка: тест 999\"\n",
        "\n",
        "# Запуск тестов\n",
        "test_magic()\n",
        "print(\"Все тесты пройдены успешно!\")"
      ]
    },
    {
      "cell_type": "markdown",
      "metadata": {
        "id": "0nS-kIa8g8vd"
      },
      "source": [
        "# Задача 5\n",
        "Написать функцию, которая принимает два целочисленных вектора одинаковой длины и\n",
        "возвращает среднеквадратическое отклонение двух векторов. Написать тесты для кода"
      ]
    },
    {
      "cell_type": "code",
      "execution_count": 11,
      "metadata": {
        "id": "8iphx4LM6xbx"
      },
      "outputs": [
        {
          "name": "stdout",
          "output_type": "stream",
          "text": [
            "Все тесты пройдены!\n"
          ]
        }
      ],
      "source": [
        "def mse(pred, true):\n",
        "    if len(pred) != len(true):\n",
        "        #делим сумму квадратов ошибок на количество элементов\n",
        "        raise ValueError(\"Both vectors must be of the same length.\")\n",
        "    \n",
        "    n = len(pred)\n",
        "    error = sum((pred[i] - true[i]) ** 2 for i in range(n))\n",
        "    return error / n\n",
        "def test_mse():\n",
        "    # Тест 1: Проверка с положительными числами\n",
        "    pred1 = [1, 2, 3]\n",
        "    true1 = [1, 2, 2]\n",
        "    result1 = mse(pred1, true1)\n",
        "    assert result1 == (0 + 0 + 1) / 3  # Oжидаемое значение MSE = 1/3 = 0.333...\n",
        "    \n",
        "    # Тест 2: Проверка с отрицательными числами\n",
        "    pred2 = [-1, -2, -3]\n",
        "    true2 = [-1, -2, -1]\n",
        "    result2 = mse(pred2, true2)\n",
        "    assert result2 == (0 + 0 + 4) / 3  # Oжидаемое значение MSE = 4/3 = 1.333...\n",
        "    \n",
        "    # Тест 3: Проверка с нулями\n",
        "    pred3 = [0, 0, 0]\n",
        "    true3 = [0, 1, 2]\n",
        "    result3 = mse(pred3, true3)\n",
        "    assert result3 == (0 + 1 + 4) / 3  # Oжидаемое значение MSE = 5/3 = 1.666...\n",
        "    \n",
        "    print(\"Все тесты пройдены!\")\n",
        "\n",
        "# Запуск тестов\n",
        "test_mse()"
      ]
    },
    {
      "cell_type": "markdown",
      "metadata": {
        "id": "vpIPKL439zkw"
      },
      "source": [
        "# Задача 6\n",
        "Написать функцию, принимающая целое положительное число. Функция должна вернуть\n",
        "строку вида “(n1**p1)(n2**p2)…(nk**pk)” представляющая разложение числа на простые\n",
        "множители (если pi == 1, то выводить только ni).\n",
        "Например, для числа 86240 функция должна вернуть “(2**5)(5)(7**2)(11)”. Написать тесты для кода"
      ]
    },
    {
      "cell_type": "code",
      "execution_count": 14,
      "metadata": {
        "id": "pFebmcZk94Jw"
      },
      "outputs": [
        {
          "name": "stdout",
          "output_type": "stream",
          "text": [
            "Все тесты пройдены!\n"
          ]
        }
      ],
      "source": [
        "def prime_factorization(n):\n",
        "    #Возвращает разложение числа n на простые множители в виде строки\n",
        "    if n <= 1:\n",
        "        raise ValueError(\"Входное число должно быть больше 0\")\n",
        "\n",
        "    factors = {}\n",
        "    d = 2\n",
        "    \n",
        "    # Находим простые множители\n",
        "    while d * d <= n:\n",
        "        while (n % d) == 0:\n",
        "            if d in factors:\n",
        "                factors[d] += 1\n",
        "            else:\n",
        "                factors[d] = 1\n",
        "            n //= d\n",
        "        d += 1\n",
        "\n",
        "    # Если n осталось больше 1, то это простой множитель\n",
        "    if n > 1:\n",
        "        factors[n] = 1\n",
        "\n",
        "    # Формируем строку для вывода\n",
        "    result = []\n",
        "    for p, count in factors.items():\n",
        "        if count == 1:\n",
        "            result.append(f\"({p})\")\n",
        "        else:\n",
        "            result.append(f\"({p}**{count})\")\n",
        "    \n",
        "    return ''.join(result)\n",
        "\n",
        "def test_prime_factorization():\n",
        "    \"\"\"Тесты для проверки функции prime_factorization.\"\"\"\n",
        "    assert prime_factorization(86240) == \"(2**5)(5)(7**2)(11)\", \"Ошибка в тесте 1\"\n",
        "    assert prime_factorization(28) == \"(2**2)(7)\", \"Ошибка в тесте 2\"\n",
        "    assert prime_factorization(100) == \"(2**2)(5**2)\", \"Ошибка в тесте 3\"\n",
        "    print(\"Все тесты пройдены!\")\n",
        "\n",
        "# Запускаем тесты\n",
        "test_prime_factorization()\n"
      ]
    },
    {
      "cell_type": "markdown",
      "metadata": {
        "id": "ps2s0BudX7A2"
      },
      "source": [
        "# Задача 7\n",
        "Написать функцию, принимающая целое число n, задающее количество кубиков. Функция\n",
        "должна определить, можно ли из данного кол-ва кубиков построить пирамиду, то есть\n",
        "можно ли представить число n как 1^2+2^2+3^2+…+k^2. Если можно, то функция должна\n",
        "вернуть k, иначе строку “It is impossible”. Написать тесты для кода"
      ]
    },
    {
      "cell_type": "code",
      "execution_count": 28,
      "metadata": {
        "id": "3YPjEXxhX_YT"
      },
      "outputs": [
        {
          "name": "stdout",
          "output_type": "stream",
          "text": [
            "All test cases passed!\n"
          ]
        }
      ],
      "source": [
        "def pyramid(n):\n",
        "    if n < 1:\n",
        "        return \"It is impossible\"\n",
        "    \n",
        "    k = 1\n",
        "    sum_k_squared = 0\n",
        "    \n",
        "    while True:\n",
        "        sum_k_squared += k ** 2  \n",
        "        if sum_k_squared == n:  \n",
        "            return k\n",
        "        elif sum_k_squared > n: \n",
        "            return \"It is impossible\"\n",
        "        k += 1  \n",
        "\n",
        "def test_pyramid():\n",
        "    assert pyramid(14) == 3, \"Тест  1 провалился\"  # 1^2 + 2^2 + 3^2 = 14\n",
        "    assert pyramid(30) == 4, \"Тест  2 провалился\"  # 1^2 + 2^2 + 3^2 + 4^2 = 30\n",
        "    assert pyramid(1) == 1, \"Тест  3 провалился\"    # 1^2 = 1\n",
        "    print(\"Все тесты пройдены!\")\n",
        "\n",
        "\n",
        "test_pyramid()\n",
        "\n"
      ]
    },
    {
      "cell_type": "markdown",
      "metadata": {
        "id": "KeKgmIdAQMEJ"
      },
      "source": [
        "# Задача 8\n",
        "Функция принимает на вход положительное число и определяет является ли оно сбалансированным, т.е. сумма цифр до средних равна сумме цифр после. Средними в случае нечетного числа цифр считать одну цифру, в случае четного - две средних. Написать тесты для кода"
      ]
    },
    {
      "cell_type": "code",
      "execution_count": 30,
      "metadata": {
        "id": "gMAAqtqlQrZt"
      },
      "outputs": [
        {
          "name": "stdout",
          "output_type": "stream",
          "text": [
            "False\n",
            "True\n",
            "False\n"
          ]
        }
      ],
      "source": [
        "def is_balanced_number(n):\n",
        "    # Преобразуем число в строку\n",
        "    num_str = str(n)\n",
        "    length = len(num_str)\n",
        "\n",
        "    # Находим индексы для средних цифр\n",
        "    if length % 2 == 0:  # четное количество цифр\n",
        "        mid1 = length // 2 - 1\n",
        "        mid2 = length // 2\n",
        "        left_part = num_str[:mid1 + 1]\n",
        "        right_part = num_str[mid2 + 1:]\n",
        "    else:  # нечетное количество цифр\n",
        "        mid = length // 2\n",
        "        left_part = num_str[:mid]\n",
        "        right_part = num_str[mid + 1:]\n",
        "\n",
        "    # Считаем суммы\n",
        "    left_sum = sum(int(digit) for digit in left_part)\n",
        "    right_sum = sum(int(digit) for digit in right_part)\n",
        "\n",
        "    # Сравниваем суммы\n",
        "    return left_sum == right_sum\n",
        "\n",
        "# Примеры использования\n",
        "print(is_balanced_number(123321))  # True\n",
        "print(is_balanced_number(1234321))  # True\n",
        "print(is_balanced_number(123456))    # False\n",
        "\n"
      ]
    },
    {
      "cell_type": "code",
      "execution_count": null,
      "metadata": {},
      "outputs": [],
      "source": []
    }
  ],
  "metadata": {
    "colab": {
      "provenance": []
    },
    "kernelspec": {
      "display_name": "Python 3",
      "name": "python3"
    },
    "language_info": {
      "codemirror_mode": {
        "name": "ipython",
        "version": 3
      },
      "file_extension": ".py",
      "mimetype": "text/x-python",
      "name": "python",
      "nbconvert_exporter": "python",
      "pygments_lexer": "ipython3",
      "version": "3.10.8"
    }
  },
  "nbformat": 4,
  "nbformat_minor": 0
}
