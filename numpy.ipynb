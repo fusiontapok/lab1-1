{
  "cells": [
    {
      "cell_type": "markdown",
      "metadata": {
        "id": "vC84e9kzyxPy"
      },
      "source": [
        "<h1>Импорт библиотек"
      ]
    },
    {
      "cell_type": "code",
      "execution_count": 24,
      "metadata": {
        "id": "cgKeNegmQG5S"
      },
      "outputs": [
        {
          "ename": "ModuleNotFoundError",
          "evalue": "No module named 'matplotlib'",
          "output_type": "error",
          "traceback": [
            "\u001b[1;31m---------------------------------------------------------------------------\u001b[0m",
            "\u001b[1;31mModuleNotFoundError\u001b[0m                       Traceback (most recent call last)",
            "Cell \u001b[1;32mIn[24], line 2\u001b[0m\n\u001b[0;32m      1\u001b[0m \u001b[38;5;28;01mimport\u001b[39;00m \u001b[38;5;21;01mnumpy\u001b[39;00m \u001b[38;5;28;01mas\u001b[39;00m \u001b[38;5;21;01mnp\u001b[39;00m\n\u001b[1;32m----> 2\u001b[0m \u001b[38;5;28;01mimport\u001b[39;00m \u001b[38;5;21;01mmatplotlib\u001b[39;00m\u001b[38;5;21;01m.\u001b[39;00m\u001b[38;5;21;01mpyplot\u001b[39;00m \u001b[38;5;28;01mas\u001b[39;00m \u001b[38;5;21;01mplt\u001b[39;00m\n",
            "\u001b[1;31mModuleNotFoundError\u001b[0m: No module named 'matplotlib'"
          ]
        }
      ],
      "source": [
        "import numpy as np\n",
        "import matplotlib.pyplot as plt\n"
      ]
    },
    {
      "cell_type": "markdown",
      "metadata": {
        "id": "qFM9uVU2x4Ls"
      },
      "source": [
        "<h1>Задача 1. Дан набор из $p$ матриц размерностью $(n, n)$ и $p$ векторов размерностью $(n, 1)$, найти сумму произведений матриц на векторы. Написать тесты для кода"
      ]
    },
    {
      "cell_type": "code",
      "execution_count": 26,
      "metadata": {
        "id": "IAbUvEiYyWFF"
      },
      "outputs": [
        {
          "name": "stdout",
          "output_type": "stream",
          "text": [
            "Все тесты пройдены!\n"
          ]
        }
      ],
      "source": [
        "import numpy as np\n",
        "\n",
        "def sum_prod(X, V):\n",
        "    # Инициализируем результат с размерностью (n, 1)\n",
        "    result = np.zeros((X[0].shape[0], 1))  \n",
        "    \n",
        "    for x, v in zip(X, V):\n",
        "        # Суммируем произведения матриц и векторов\n",
        "        result += np.dot(x, v)  \n",
        "    \n",
        "    return result\n",
        "\n",
        "def test_sum_prod():\n",
        "    # Тест 1: Простой случай\n",
        "    X = [np.array([[1, 2], [3, 4]]), np.array([[5, 6], [7, 8]])]\n",
        "    V = [np.array([[1], [1]]), np.array([[1], [1]])]\n",
        "    expected_result = np.array([[14], [22]])\n",
        "    actual_result = sum_prod(X, V)\n",
        "    assert np.array_equal(actual_result, expected_result), f\"Test 1 failed: expected {expected_result}, got {actual_result}\"\n",
        "\n",
        "    # Тест 2: Нулевые матрицы\n",
        "    X = [np.zeros((2, 2)), np.zeros((2, 2))]\n",
        "    V = [np.array([[1], [1]]), np.array([[1], [1]])]\n",
        "    expected_result = np.array([[0], [0]])\n",
        "    actual_result = sum_prod(X, V)\n",
        "    assert np.array_equal(actual_result, expected_result), f\"Test 2 failed: expected {expected_result}, got {actual_result}\"\n",
        "\n",
        "    # Тест 3: Единичные матрицы\n",
        "    X = [np.eye(2), np.eye(2)]\n",
        "    V = [np.array([[1], [1]]), np.array([[1], [1]])]\n",
        "    expected_result = np.array([[2], [2]])\n",
        "    actual_result = sum_prod(X, V)\n",
        "    assert np.array_equal(actual_result, expected_result), f\"Test 3 failed: expected {expected_result}, got {actual_result}\"\n",
        "\n",
        "    # Тест 4: Сложные числа\n",
        "    X = [np.array([[1, 0], [0, 1]]), np.array([[2, 2], [2, 2]])]\n",
        "    V = [np.array([[1], [1]]), np.array([[1], [1]])]\n",
        "    expected_result = np.array([[5], [5]])\n",
        "    actual_result = sum_prod(X, V)\n",
        "    assert np.array_equal(actual_result, expected_result), f\"Test 4 failed: expected {expected_result}, got {actual_result}\"\n",
        "\n",
        "    # Тест 5: Разные матрицы и векторы\n",
        "    X = [np.array([[1, 2, 3], [4, 5, 6]]), np.array([[7, 8, 9], [10, 11, 12]])]\n",
        "    V = [np.array([[1], [1], [1]]), np.array([[1], [1], [1]])]\n",
        "    expected_result = np.array([[30], [48]])\n",
        "    actual_result = sum_prod(X, V)\n",
        "    assert np.array_equal(actual_result, expected_result), f\"Test 5 failed: expected {expected_result}, got {actual_result}\"\n",
        "\n",
        "    print(\"Все тесты пройдены!\")\n",
        "\n",
        "# Запуск тестов\n",
        "test_sum_prod()\n"
      ]
    },
    {
      "cell_type": "markdown",
      "metadata": {
        "id": "TKwPG4fIy2w4"
      },
      "source": [
        "<h1>Задача 2. Дана матрица M, напишите функцию, которая бинаризует матрицу по некоторому threshold (то есть, все значения большие threshold становятся равными 1, иначе 0). Напишите тесты для кода"
      ]
    },
    {
      "cell_type": "code",
      "execution_count": 27,
      "metadata": {
        "id": "KQDNMgsjRNH7"
      },
      "outputs": [
        {
          "name": "stdout",
          "output_type": "stream",
          "text": [
            "Все тесты пройдены!\n"
          ]
        }
      ],
      "source": [
        "import numpy as np\n",
        "\n",
        "def binarize(M, threshold=0.5):\n",
        "    return (M > threshold).astype(int)\n",
        "\n",
        "# Тесты\n",
        "def test_binarize():\n",
        "    # Тест 1: базовый случай\n",
        "    M1 = np.array([[0.2, 0.8], [0.5, 0.9]])\n",
        "    assert np.array_equal(binarize(M1, 0.5), np.array([[0, 1], [0, 1]]))\n",
        "\n",
        "    # Тест 2: все элементы меньше threshold\n",
        "    M2 = np.array([[0.1, 0.2], [0.3, 0.4]])\n",
        "    assert np.array_equal(binarize(M2, 0.5), np.array([[0, 0], [0, 0]]))\n",
        "\n",
        "    # Тест 3: все элементы больше threshold\n",
        "    M3 = np.array([[0.6, 0.7], [0.8, 0.9]])\n",
        "    assert np.array_equal(binarize(M3, 0.5), np.array([[1, 1], [1, 1]]))\n",
        "\n",
        "    # Тест 4: смешанные значения\n",
        "    M4 = np.array([[0.5, 0.6], [0.4, 0.5]])\n",
        "    assert np.array_equal(binarize(M4, 0.5), np.array([[0, 1], [0, 0]]))\n",
        "\n",
        "    print(\"Все тесты пройдены!\")\n",
        "\n",
        "# Запуск тестов\n",
        "test_binarize()\n"
      ]
    },
    {
      "cell_type": "markdown",
      "metadata": {
        "id": "IY5L-h-7zWhN"
      },
      "source": [
        "<h1>Задача 3. Напишите функцию, которая возвращает уникальные элементы из каждой строки матрицы. Напишите такую же функцию, но для столбцов. Напишите тесты для кода"
      ]
    },
    {
      "cell_type": "code",
      "execution_count": 33,
      "metadata": {
        "id": "-8dEZhR0SBC-"
      },
      "outputs": [
        {
          "name": "stdout",
          "output_type": "stream",
          "text": [
            "Все тесты пройдены!\n"
          ]
        }
      ],
      "source": [
        "import numpy as np\n",
        "#возвращает список, содержащий уникальные элементы для каждой строки матрицы.\n",
        "def unique_rows(mat):\n",
        "    return [np.unique(row) for row in mat]\n",
        "#возвращает список уникальных элементов для каждого столбца.\n",
        "def unique_columns(mat):\n",
        "    return [np.unique(col) for col in mat.T]\n",
        "\n",
        "# Тесты\n",
        "def test_unique():\n",
        "    # Тест 1: базовый случай\n",
        "    mat1 = np.array([[1, 2, 2], [3, 1, 1], [2, 3, 3]])\n",
        "    assert np.array_equal(unique_rows(mat1)[0], np.array([1, 2]))\n",
        "    assert np.array_equal(unique_rows(mat1)[1], np.array([1, 3]))\n",
        "    assert np.array_equal(unique_rows(mat1)[2], np.array([2, 3]))\n",
        "    \n",
        "    assert np.array_equal(unique_columns(mat1)[0], np.array([1, 2, 3]))\n",
        "    assert np.array_equal(unique_columns(mat1)[1], np.array([1, 2, 3]))\n",
        "    assert np.array_equal(unique_columns(mat1)[2], np.array([1, 2, 3]))  \n",
        "\n",
        "    # Тест 2: все элементы одинаковые\n",
        "    mat2 = np.array([[1, 1], [1, 1]])\n",
        "    assert np.array_equal(unique_rows(mat2)[0], np.array([1]))\n",
        "    assert np.array_equal(unique_rows(mat2)[1], np.array([1]))\n",
        "\n",
        "    assert np.array_equal(unique_columns(mat2)[0], np.array([1]))\n",
        "    assert np.array_equal(unique_columns(mat2)[1], np.array([1]))\n",
        "\n",
        "    # Тест 3: разные типы данных\n",
        "    mat3 = np.array([[1.0, 2.0], [2.0, 3.0]])\n",
        "    assert np.array_equal(unique_rows(mat3)[0], np.array([1.0, 2.0]))\n",
        "    assert np.array_equal(unique_rows(mat3)[1], np.array([2.0, 3.0]))\n",
        "\n",
        "    assert np.array_equal(unique_columns(mat3)[0], np.array([1.0, 2.0]))\n",
        "    assert np.array_equal(unique_columns(mat3)[1], np.array([2.0, 3.0]))\n",
        "\n",
        "    print(\"Все тесты пройдены!\")\n",
        "\n",
        "# Запуск тестов\n",
        "test_unique()\n"
      ]
    },
    {
      "cell_type": "markdown",
      "metadata": {
        "id": "roYAlo4Jz-lH"
      },
      "source": [
        "<h1>Задача 4. Напишите функцию, которая заполняет матрицу с размерами $(m, n)$ случайными числами, распределенными по нормальному закону. Затем считает мат. ожидание и дисперсию для каждого из столбцов и строк, а также строит для каждой строки и столбца гистограмму значений (использовать функцию hist из модуля matplotlib.plot)"
      ]
    },
    {
      "cell_type": "code",
      "execution_count": 39,
      "metadata": {
        "id": "nZK_71hMSQzv"
      },
      "outputs": [
        {
          "data": {
            "image/png": "[encoded data removed]",
            "text/plain": [
              "<Figure size 640x480 with 1 Axes>"
            ]
          },
          "metadata": {},
          "output_type": "display_data"
        },
        {
          "data": {
            "image/png": "[encoded data removed]",
            "text/plain": [
              "<Figure size 640x480 with 1 Axes>"
            ]
          },
          "metadata": {},
          "output_type": "display_data"
        },
        {
          "name": "stdout",
          "output_type": "stream",
          "text": [
            "Тесты пройдены успешно!\n"
          ]
        }
      ],
      "source": [
        "import numpy as np\n",
        "import matplotlib.pyplot as plt\n",
        "\n",
        "def generate_matrix(m, n):\n",
        "    # Генерация матрицы случайных чисел\n",
        "    matrix = np.random.normal(size=(m, n))\n",
        "    \n",
        "    # Расчет мат. ожидания и дисперсии\n",
        "    row_means = np.mean(matrix, axis=1)\n",
        "    row_vars = np.var(matrix, axis=1)\n",
        "    col_means = np.mean(matrix, axis=0)\n",
        "    col_vars = np.var(matrix, axis=0)\n",
        "    \n",
        "    # Построение гистограмм\n",
        "    for i in range(m):\n",
        "        plt.hist(matrix[i], bins=10, alpha=0.5, label=f'Row {i}')\n",
        "    plt.title('Row Histograms')\n",
        "    plt.legend()\n",
        "    plt.show()\n",
        "    \n",
        "    for j in range(n):\n",
        "        plt.hist(matrix[:, j], bins=10, alpha=0.5, label=f'Column {j}')\n",
        "    plt.title('Column Histograms')\n",
        "    plt.legend()\n",
        "    plt.show()\n",
        "    \n",
        "    return row_means, row_vars, col_means, col_vars\n",
        "\n",
        "# Примеры тестов\n",
        "def test_generate_matrix():\n",
        "    m, n = 5, 3\n",
        "    row_means, row_vars, col_means, col_vars = generate_matrix(m, n)\n",
        "    \n",
        "    assert len(row_means) == m, \"Неверная длина средних по строкам\"\n",
        "    assert len(col_means) == n, \"Неверная длина средних по столбцам\"\n",
        "    assert all(var >= 0 for var in row_vars), \"Дисперсия по строкам не может быть отрицательной\"\n",
        "    assert all(var >= 0 for var in col_vars), \"Дисперсия по столбцам не может быть отрицательной\"\n",
        "    print(\"Тесты пройдены успешно!\")\n",
        "\n",
        "# Запуск тестов\n",
        "test_generate_matrix()\n"
      ]
    },
    {
      "cell_type": "markdown",
      "metadata": {
        "id": "BDyATNdM0dJ2"
      },
      "source": [
        "<h1>Задача 5. Напишите функцию, которая заполняет матрицу $(m, n)$ в шахматном порядке заданными числами $a$ и $b$. Напишите тесты для кода"
      ]
    },
    {
      "cell_type": "code",
      "execution_count": 40,
      "metadata": {
        "id": "RWNJYWQGecS6"
      },
      "outputs": [
        {
          "name": "stdout",
          "output_type": "stream",
          "text": [
            "Все тесты пройдены успешно!\n"
          ]
        }
      ],
      "source": [
        "def chess(m, n, a, b):\n",
        "    # Создание пустой матрицы\n",
        "    matrix = [[0] * n for _ in range(m)]\n",
        "    \n",
        "    # Заполнение матрицы в шахматном порядке\n",
        "    for i in range(m):\n",
        "        for j in range(n):\n",
        "            if (i + j) % 2 == 0:\n",
        "                matrix[i][j] = a\n",
        "            else:\n",
        "                matrix[i][j] = b\n",
        "                \n",
        "    return matrix\n",
        "\n",
        "# Примеры тестов\n",
        "def test_chess():\n",
        "    # Тест 1: 2x2 матрица\n",
        "    result = chess(2, 2, 1, 0)\n",
        "    expected = [[1, 0], [0, 1]]\n",
        "    assert result == expected, f\"Expected {expected}, got {result}\"\n",
        "\n",
        "    # Тест 2: 3x3 матрица\n",
        "    result = chess(3, 3, 2, 3)\n",
        "    expected = [[2, 3, 2], [3, 2, 3], [2, 3, 2]]\n",
        "    assert result == expected, f\"Expected {expected}, got {result}\"\n",
        "\n",
        "    # Тест 3: 4x4 матрица\n",
        "    result = chess(4, 4, 5, 6)\n",
        "    expected = [[5, 6, 5, 6], [6, 5, 6, 5], [5, 6, 5, 6], [6, 5, 6, 5]]\n",
        "    assert result == expected, f\"Expected {expected}, got {result}\"\n",
        "    \n",
        "    print(\"Все тесты пройдены успешно!\")\n",
        "\n",
        "# Запуск тестов\n",
        "test_chess()\n"
      ]
    },
    {
      "cell_type": "markdown",
      "metadata": {
        "id": "-ymXLtTN0vB6"
      },
      "source": [
        "<h1>Задача 6. Напишите функцию, которая отрисовывает прямоугольник с заданными размерами (a, b) на изображении размера (m, n), цвет фона задайте в схеме RGB, как и цвет прямоугольника. Цвета также должны быть параметрами функции. Напишите аналогичную функцию но для овала с полуосями a и b. Напишите тесты для кода.\n",
        "Примечание: уравнение эллипса (границы овала) можно записать как:\n",
        "<h1>$\\frac{(x-x_0)^2}{a^2}+\\frac{(y-y_0)^2}{b^2}=1$"
      ]
    },
    {
      "cell_type": "code",
      "execution_count": 42,
      "metadata": {
        "id": "sNfl1t_kfOF4"
      },
      "outputs": [
        {
          "data": {
            "image/png": "[encoded data removed]",
            "text/plain": [
              "<Figure size 640x480 with 1 Axes>"
            ]
          },
          "metadata": {},
          "output_type": "display_data"
        },
        {
          "data": {
            "image/png": "[encoded data removed]",
            "text/plain": [
              "<Figure size 640x480 with 1 Axes>"
            ]
          },
          "metadata": {},
          "output_type": "display_data"
        },
        {
          "name": "stdout",
          "output_type": "stream",
          "text": [
            "Тесты пройдены успешно!\n"
          ]
        }
      ],
      "source": [
        "import numpy as np\n",
        "import matplotlib.pyplot as plt\n",
        "\n",
        "def draw_rectangle(a, b, m, n, rectangle_color, background_color):\n",
        "    # Создаем изображение\n",
        "    image = np.ones((m, n, 3)) * np.array(background_color)\n",
        "    \n",
        "    # Рисуем прямоугольник\n",
        "    image[:b, :a] = np.array(rectangle_color)\n",
        "    \n",
        "    plt.imshow(image)\n",
        "    plt.axis('off')\n",
        "    plt.show()\n",
        "\n",
        "def draw_ellipse(a, b, m, n, ellipse_color, background_color):\n",
        "    # Создаем изображение\n",
        "    image = np.ones((m, n, 3)) * np.array(background_color)\n",
        "    \n",
        "    # Рисуем овал\n",
        "    y, x = np.ogrid[:m, :n]\n",
        "    x0, y0 = n // 2, m // 2\n",
        "    ellipse_mask = ((x - x0) ** 2) / a ** 2 + ((y - y0) ** 2) / b ** 2 <= 1\n",
        "    image[ellipse_mask] = np.array(ellipse_color)\n",
        "\n",
        "    plt.imshow(image)\n",
        "    plt.axis('off')\n",
        "    plt.show()\n",
        "\n",
        "# Примеры тестов\n",
        "def test_shapes():\n",
        "    # Тест для прямоугольника\n",
        "    draw_rectangle(50, 30, 100, 100, (1, 0, 0), (1, 1, 1))  # Красный прямоугольник на белом фоне\n",
        "\n",
        "    # Тест для овала\n",
        "    draw_ellipse(40, 20, 100, 100, (0, 0, 1), (1, 1, 1))  # Синий овал на белом фоне\n",
        "\n",
        "    print(\"Тесты пройдены успешно!\")\n",
        "\n",
        "# Запуск тестов\n",
        "test_shapes()\n"
      ]
    },
    {
      "cell_type": "markdown",
      "metadata": {
        "id": "S82c38oz244H"
      },
      "source": [
        "<h1>Задача 7. Дан некий временной ряд. Для данного ряда нужно найти его: математическое ожидание, дисперсию, СКО, найти все локальные максимумы и минимумы (локальный максимум - это точка, которая больше своих соседних точек, а локальный минимум - это точка, которая меньше своих соседей), а также вычислить для данного ряда другой ряд, получаемый методом скользящего среднего с размером окна $p$.\n",
        "<h1>Примечание: метод скользящего среднего подразумевает нахождение среднего из подмножетсва ряда размером $p$"
      ]
    },
    {
      "cell_type": "code",
      "execution_count": 48,
      "metadata": {
        "id": "Zb9mIVge5MMt"
      },
      "outputs": [
        {
          "name": "stdout",
          "output_type": "stream",
          "text": [
            "Математическое ожидание: 3.4444444444444446\n",
            "Дисперсия: 2.4691358024691357\n",
            "СКО: 1.5713484026367723\n",
            "Локальные максимумы: [np.int64(3), np.int64(5), np.int64(6)]\n",
            "Локальные минимумы: [np.int64(2), np.int64(4), np.int64(2)]\n",
            "Скользящее среднее: [2.0, 3.333333333333333, 3.666666666666666, 5.0, 4.333333333333333, 3.6666666666666665, 3.333333333333333]\n"
          ]
        }
      ],
      "source": [
        "import numpy as np\n",
        "\n",
        "def analyze_time_series(data, p):\n",
        "    # Преобразуем данные в массив NumPy\n",
        "    data = np.array(data)\n",
        "\n",
        "    # 1. Математическое ожидание\n",
        "    mean = np.mean(data)\n",
        "\n",
        "    # 2. Дисперсия\n",
        "    variance = np.var(data)\n",
        "\n",
        "    # 3. СКО\n",
        "    std_dev = np.std(data)\n",
        "\n",
        "    # 4. Локальные максимумы и минимумы\n",
        "    local_maxima = []\n",
        "    local_minima = []\n",
        "    \n",
        "    for i in range(1, len(data) - 1):\n",
        "        if data[i-1] < data[i] > data[i+1]:\n",
        "            local_maxima.append(data[i])\n",
        "        elif data[i-1] > data[i] < data[i+1]:\n",
        "            local_minima.append(data[i])\n",
        "\n",
        "    # 5. Скользящее среднее\n",
        "    moving_average = np.convolve(data, np.ones(p)/p, mode='valid')\n",
        "\n",
        "    results = {\n",
        "        'mean': mean,\n",
        "        'variance': variance,\n",
        "        'std_dev': std_dev,\n",
        "        'local_maxima': local_maxima,\n",
        "        'local_minima': local_minima,\n",
        "        'moving_average': moving_average.tolist()\n",
        "    }\n",
        "    \n",
        "    return results\n",
        "\n",
        "# Пример использования\n",
        "data = [1, 3, 2, 5, 4, 6, 3, 2, 5]  # Ваш временной ряд\n",
        "window_size = 3  # Размер окна для скользящего среднего\n",
        "\n",
        "results = analyze_time_series(data, window_size)\n",
        "\n",
        "print(\"Математическое ожидание:\", results['mean'])\n",
        "print(\"Дисперсия:\", results['variance'])\n",
        "print(\"СКО:\", results['std_dev'])\n",
        "print(\"Локальные максимумы:\", results['local_maxima'])\n",
        "print(\"Локальные минимумы:\", results['local_minima'])\n",
        "print(\"Скользящее среднее:\", results['moving_average'])\n"
      ]
    },
    {
      "cell_type": "markdown",
      "metadata": {
        "id": "jPkylmOX5O9n"
      },
      "source": [
        "<h1> Задача 8. Дан некоторый вектор с целочисленными метками классов, напишите функцию, которая выполняет one-hot-encoding для данного вектора\n",
        "<h1> One-hot-encoding - представление, в котором на месте метки некоторого класса стоит 1, в остальных позициях стоит 0. Например для вектора [0, 2, 3, 0] one-hot-encoding выглядит как: [[1, 0, 0, 0], [0, 0, 1, 0], [0, 0, 0, 1], [1, 0, 0, 0]]"
      ]
    },
    {
      "cell_type": "code",
      "execution_count": 49,
      "metadata": {
        "id": "Y-jlnZvw56lD"
      },
      "outputs": [
        {
          "name": "stdout",
          "output_type": "stream",
          "text": [
            "[[1 0 0 0]\n",
            " [0 0 1 0]\n",
            " [0 0 0 1]\n",
            " [1 0 0 0]]\n"
          ]
        }
      ],
      "source": [
        "import numpy as np\n",
        "\n",
        "def one_hot_encode(labels):\n",
        "    # Получаем максимальное значение метки, чтобы определить размерность\n",
        "    num_classes = np.max(labels) + 1\n",
        "    # Создаем нулевую матрицу\n",
        "    one_hot_matrix = np.zeros((len(labels), num_classes), dtype=int)\n",
        "    # Заполняем матрицу\n",
        "    for idx, label in enumerate(labels):\n",
        "        one_hot_matrix[idx, label] = 1\n",
        "    return one_hot_matrix\n",
        "\n",
        "# Пример использования\n",
        "labels = [0, 2, 3, 0]\n",
        "one_hot_encoded = one_hot_encode(labels)\n",
        "print(one_hot_encoded)\n"
      ]
    },
    {
      "cell_type": "code",
      "execution_count": null,
      "metadata": {},
      "outputs": [],
      "source": [
        "\n"
      ]
    }
  ],
  "metadata": {
    "colab": {
      "provenance": []
    },
    "kernelspec": {
      "display_name": "Python 3",
      "name": "python3"
    },
    "language_info": {
      "codemirror_mode": {
        "name": "ipython",
        "version": 3
      },
      "file_extension": ".py",
      "mimetype": "text/x-python",
      "name": "python",
      "nbconvert_exporter": "python",
      "pygments_lexer": "ipython3",
      "version": "3.10.8"
    }
  },
  "nbformat": 4,
  "nbformat_minor": 0
}
